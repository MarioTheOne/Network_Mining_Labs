{
 "cells": [
  {
   "cell_type": "markdown",
   "metadata": {},
   "source": [
    "# Network Mining\n",
    "\n",
    "## Lab 1: Norms\n",
    "\n",
    "#### Notebook Author: Mario Prado\n",
    "\n",
    "The Norms are qualitative measures of an object's size. In this lab you could see examples of how to implement diverse vector norms using python and the numpy library."
   ]
  },
  {
   "cell_type": "code",
   "execution_count": 1,
   "metadata": {},
   "outputs": [],
   "source": [
    "import random\n",
    "random.seed(1)"
   ]
  },
  {
   "cell_type": "markdown",
   "metadata": {},
   "source": [
    "### Generating random vectors"
   ]
  },
  {
   "cell_type": "code",
   "execution_count": 26,
   "metadata": {},
   "outputs": [
    {
     "data": {
      "text/plain": [
       "[0.7609477375418205, 0.9522444552911937, 0.926506623785866]"
      ]
     },
     "execution_count": 26,
     "metadata": {},
     "output_type": "execute_result"
    }
   ],
   "source": [
    "n = 3 # vector size\n",
    "µ = 2 # mean\n",
    "σ = 2 # std deviation\n",
    "\n",
    "Vector_A = [random.random() for i in range(n)]\n",
    "Vector_A"
   ]
  },
  {
   "cell_type": "code",
   "execution_count": 27,
   "metadata": {},
   "outputs": [
    {
     "data": {
      "text/plain": [
       "[6, 42, 64]"
      ]
     },
     "execution_count": 27,
     "metadata": {},
     "output_type": "execute_result"
    }
   ],
   "source": [
    "Vector_B = [random.randint(-100,100) for i in range(n)]\n",
    "Vector_B"
   ]
  },
  {
   "cell_type": "code",
   "execution_count": 28,
   "metadata": {},
   "outputs": [
    {
     "data": {
      "text/plain": [
       "[4.279651340726846, 3.6562695808235763, 1.7235088501902505]"
      ]
     },
     "execution_count": 28,
     "metadata": {},
     "output_type": "execute_result"
    }
   ],
   "source": [
    "Vector_C = [random.gauss(µ,σ) for i in range(n)]\n",
    "Vector_C"
   ]
  },
  {
   "cell_type": "markdown",
   "metadata": {},
   "source": [
    "### Generating random matrices"
   ]
  },
  {
   "cell_type": "code",
   "execution_count": 3,
   "metadata": {},
   "outputs": [
    {
     "data": {
      "text/plain": [
       "[[0.48785665652414756, 0.8933170425576351, 0.3898088070211341],\n",
       " [0.6074379962852603, 0.767157629147962, 0.6958328667684435],\n",
       " [0.26633056045725956, 0.8018263669964836, 0.5911534350013039]]"
      ]
     },
     "execution_count": 3,
     "metadata": {},
     "output_type": "execute_result"
    }
   ],
   "source": [
    "r = 3\n",
    "c = 3\n",
    "a = 1\n",
    "b = 10\n",
    "µ = 3 # mean\n",
    "σ = 2 # std deviation\n",
    "\n",
    "Matrix_A = [[random.random() for i in range(r)] for j in range(c)]\n",
    "Matrix_A"
   ]
  },
  {
   "cell_type": "code",
   "execution_count": 4,
   "metadata": {},
   "outputs": [
    {
     "data": {
      "text/plain": [
       "[[2, 6, 1], [1, 1, 9], [1, 7, 4]]"
      ]
     },
     "execution_count": 4,
     "metadata": {},
     "output_type": "execute_result"
    }
   ],
   "source": [
    "Matrix_B = [[random.randint(a,b) for i in range(r)] for j in range(c)]\n",
    "Matrix_B"
   ]
  },
  {
   "cell_type": "code",
   "execution_count": 5,
   "metadata": {},
   "outputs": [
    {
     "data": {
      "text/plain": [
       "[[3.942348154683265, 6.156880005001951, 2.3780485834727774],\n",
       " [-0.3461794916007821, 2.4131940194412924, 5.354414825197345],\n",
       " [2.0535373623088145, 1.2993547928870246, 5.478886659343592]]"
      ]
     },
     "execution_count": 5,
     "metadata": {},
     "output_type": "execute_result"
    }
   ],
   "source": [
    "Matrix_C = [[random.gauss (µ,σ) for i in range(r)] for j in range(c)]\n",
    "Matrix_C"
   ]
  },
  {
   "cell_type": "markdown",
   "metadata": {},
   "source": [
    "### Infinite Norm"
   ]
  },
  {
   "cell_type": "code",
   "execution_count": 6,
   "metadata": {},
   "outputs": [
    {
     "name": "stdout",
     "output_type": "stream",
     "text": [
      "0.8474337369372327\n"
     ]
    }
   ],
   "source": [
    "def inf_norm(x):\n",
    "    a_abs = [abs(num) for num in x]\n",
    "    return max(a_abs)\n",
    "\n",
    "print(inf_norm(Vector_A))"
   ]
  },
  {
   "cell_type": "markdown",
   "metadata": {},
   "source": [
    "### Manhattan Norm"
   ]
  },
  {
   "cell_type": "code",
   "execution_count": 7,
   "metadata": {},
   "outputs": [
    {
     "name": "stdout",
     "output_type": "stream",
     "text": [
      "1.745572600026248\n"
     ]
    }
   ],
   "source": [
    "def manhattan_norm(x):\n",
    "    tmp = 0\n",
    "    for elem in x:\n",
    "        tmp = tmp + abs(elem)\n",
    "    return tmp\n",
    "\n",
    "print(manhattan_norm(Vector_A))"
   ]
  },
  {
   "cell_type": "markdown",
   "metadata": {},
   "source": [
    "### Euclidean Norm"
   ]
  },
  {
   "cell_type": "code",
   "execution_count": 8,
   "metadata": {},
   "outputs": [
    {
     "name": "stdout",
     "output_type": "stream",
     "text": [
      "1.1487163954554545\n"
     ]
    }
   ],
   "source": [
    "def euclidean_norm(x):\n",
    "    tmp = 0\n",
    "    for elem in x:\n",
    "        tmp = tmp + abs(elem)** 2\n",
    "    return tmp ** (1.0 / 2)\n",
    "\n",
    "print(euclidean_norm(Vector_A))"
   ]
  },
  {
   "cell_type": "markdown",
   "metadata": {},
   "source": [
    "### P-Norm"
   ]
  },
  {
   "cell_type": "code",
   "execution_count": 9,
   "metadata": {},
   "outputs": [
    {
     "name": "stdout",
     "output_type": "stream",
     "text": [
      "1.1487163954554545\n"
     ]
    }
   ],
   "source": [
    "import math\n",
    "def pnorm(x, p=2):\n",
    "    if math.isinf(p):\n",
    "        x_abs = [abs(elem) for elem in x]\n",
    "        return max(x_abs)\n",
    "    else:\n",
    "        tmp = 0\n",
    "        for elem in x:\n",
    "            tmp = tmp + abs(elem)** p\n",
    "    return tmp ** (1.0 / p)\n",
    "\n",
    "print(pnorm(Vector_A))"
   ]
  },
  {
   "cell_type": "markdown",
   "metadata": {},
   "source": [
    "### Dot Product"
   ]
  },
  {
   "cell_type": "code",
   "execution_count": 10,
   "metadata": {},
   "outputs": [
    {
     "name": "stdout",
     "output_type": "stream",
     "text": [
      "-44.16497003614836\n"
     ]
    }
   ],
   "source": [
    "import math\n",
    "def inner_prod(X,Y):\n",
    "    sum = 0\n",
    "    for i in range(len(X)):\n",
    "        sum += X[i]*Y[i]\n",
    "    return sum\n",
    "\n",
    "print(inner_prod(Vector_A, Vector_B))"
   ]
  },
  {
   "cell_type": "markdown",
   "metadata": {},
   "source": [
    "#### Dot Product v2"
   ]
  },
  {
   "cell_type": "code",
   "execution_count": 11,
   "metadata": {},
   "outputs": [
    {
     "name": "stdout",
     "output_type": "stream",
     "text": [
      "-44.16497003614836\n"
     ]
    }
   ],
   "source": [
    "def inner_prodt(X,Y):\n",
    "    dotproduct = 0\n",
    "    for i,j in zip(X,Y):\n",
    "        dotproduct += i*j\n",
    "    return dotproduct\n",
    "\n",
    "print(inner_prodt(Vector_A, Vector_B))"
   ]
  },
  {
   "cell_type": "markdown",
   "metadata": {},
   "source": [
    "### Matrix-Vector Multiplication"
   ]
  },
  {
   "cell_type": "code",
   "execution_count": 12,
   "metadata": {},
   "outputs": [
    {
     "name": "stdout",
     "output_type": "stream",
     "text": [
      "[1.1203035635896992, 1.2631926863922587, 1.1667880085733444]\n"
     ]
    }
   ],
   "source": [
    "def MatVec(A,v): \n",
    "    return [inner_prodt(r,v) for r in A ]\n",
    "\n",
    "print(MatVec(Matrix_A, Vector_A))"
   ]
  },
  {
   "cell_type": "markdown",
   "metadata": {},
   "source": [
    "### Matrix-Matrix Multiplication"
   ]
  },
  {
   "cell_type": "code",
   "execution_count": 13,
   "metadata": {},
   "outputs": [
    {
     "name": "stdout",
     "output_type": "stream",
     "text": [
      "[[2.2588391626270643, 6.549118630850459, 10.0869452676274], [2.6778664884869263, 9.282615674238627, 10.295188125690693], [1.9256409229123066, 6.537883774749169, 9.847381603430826]]\n"
     ]
    }
   ],
   "source": [
    "def matrixmult (A, B): \n",
    "    rows_A = len(A); cols_A = len(A[0]); \n",
    "    rows_B = len(B); cols_B = len(B[0]) \n",
    "    if cols_A != rows_B: \n",
    "        print(\"Cannot multiply the two matrices. Incorrect dimensions.\") \n",
    "        return \n",
    "    C = [[0 for row in range(cols_B)] for col in range(rows_A)] \n",
    "    for i in range(rows_A): \n",
    "        for j in range(cols_B): \n",
    "            for k in range(cols_A): \n",
    "                C[i][j] += A[i][k] * B[k][j] \n",
    "    return C\n",
    "\n",
    "print(matrixmult(Matrix_A, Matrix_B))"
   ]
  },
  {
   "cell_type": "markdown",
   "metadata": {},
   "source": [
    "## Using numpy"
   ]
  },
  {
   "cell_type": "code",
   "execution_count": 14,
   "metadata": {},
   "outputs": [],
   "source": [
    "import numpy as np \n",
    "np.random.seed(1)"
   ]
  },
  {
   "cell_type": "markdown",
   "metadata": {},
   "source": [
    "### Generating  random vectors"
   ]
  },
  {
   "cell_type": "code",
   "execution_count": 29,
   "metadata": {},
   "outputs": [
    {
     "data": {
      "text/plain": [
       "array([0.69187711, 0.31551563, 0.68650093])"
      ]
     },
     "execution_count": 29,
     "metadata": {},
     "output_type": "execute_result"
    }
   ],
   "source": [
    "l = 1\n",
    "h = 100\n",
    "n = 3\n",
    "\n",
    "vector_A = np.random.rand(n) # Random vector of size n\n",
    "vector_A"
   ]
  },
  {
   "cell_type": "code",
   "execution_count": 30,
   "metadata": {},
   "outputs": [
    {
     "data": {
      "text/plain": [
       "array([-0.85005238,  0.96082   , -0.21741818])"
      ]
     },
     "execution_count": 30,
     "metadata": {},
     "output_type": "execute_result"
    }
   ],
   "source": [
    "vector_B = np.random.randn(n) # Return samples from the “standard normal” distribution\n",
    "vector_B"
   ]
  },
  {
   "cell_type": "code",
   "execution_count": 31,
   "metadata": {},
   "outputs": [
    {
     "data": {
      "text/plain": [
       "array([23, 10, 68])"
      ]
     },
     "execution_count": 31,
     "metadata": {},
     "output_type": "execute_result"
    }
   ],
   "source": [
    "vector_C = np.random.randint(l, h, n) # Random vector of size n with values in [l, h]\n",
    "vector_C"
   ]
  },
  {
   "cell_type": "markdown",
   "metadata": {},
   "source": [
    "### Generating  random matrices "
   ]
  },
  {
   "cell_type": "code",
   "execution_count": 32,
   "metadata": {},
   "outputs": [
    {
     "data": {
      "text/plain": [
       "array([[0.29361415, 0.28777534, 0.13002857],\n",
       "       [0.01936696, 0.67883553, 0.21162812],\n",
       "       [0.26554666, 0.49157316, 0.05336255]])"
      ]
     },
     "execution_count": 32,
     "metadata": {},
     "output_type": "execute_result"
    }
   ],
   "source": [
    "l = 1\n",
    "h = 100\n",
    "r = 3\n",
    "c = 3\n",
    "\n",
    "matrix_A = np.random.rand(r, c) \n",
    "matrix_A"
   ]
  },
  {
   "cell_type": "code",
   "execution_count": 33,
   "metadata": {},
   "outputs": [
    {
     "data": {
      "text/plain": [
       "array([[ 0.15851488, -1.11731035,  0.2344157 ],\n",
       "       [ 1.65980218,  0.74204416, -0.19183555],\n",
       "       [-0.88762896, -0.74715829,  1.6924546 ]])"
      ]
     },
     "execution_count": 33,
     "metadata": {},
     "output_type": "execute_result"
    }
   ],
   "source": [
    "matrix_B = np.random.randn(r, c) \n",
    "matrix_B"
   ]
  },
  {
   "cell_type": "code",
   "execution_count": 34,
   "metadata": {},
   "outputs": [
    {
     "data": {
      "text/plain": [
       "array([[78,  7, 53],\n",
       "       [86, 71,  3],\n",
       "       [77, 92, 22]])"
      ]
     },
     "execution_count": 34,
     "metadata": {},
     "output_type": "execute_result"
    }
   ],
   "source": [
    "matrix_C = np.random.randint(l, h, (r,c))\n",
    "matrix_C"
   ]
  },
  {
   "cell_type": "markdown",
   "metadata": {},
   "source": [
    "### Norms in numpy"
   ]
  },
  {
   "cell_type": "code",
   "execution_count": 17,
   "metadata": {},
   "outputs": [
    {
     "data": {
      "text/plain": [
       "0.7203244934421581"
      ]
     },
     "execution_count": 17,
     "metadata": {},
     "output_type": "execute_result"
    }
   ],
   "source": [
    "# Infinite Norm\n",
    "L_inf = np.linalg.norm(vector_A, np.inf) \n",
    "L_inf"
   ]
  },
  {
   "cell_type": "code",
   "execution_count": 18,
   "metadata": {},
   "outputs": [
    {
     "data": {
      "text/plain": [
       "1.137460872962077"
      ]
     },
     "execution_count": 18,
     "metadata": {},
     "output_type": "execute_result"
    }
   ],
   "source": [
    "# Manhattan Norm\n",
    "L_1 = np.linalg.norm(vector_A, 1) \n",
    "L_1"
   ]
  },
  {
   "cell_type": "code",
   "execution_count": 19,
   "metadata": {},
   "outputs": [
    {
     "data": {
      "text/plain": [
       "0.8323309085576807"
      ]
     },
     "execution_count": 19,
     "metadata": {},
     "output_type": "execute_result"
    }
   ],
   "source": [
    "# Euclidean Norm\n",
    "L_2 = np.linalg.norm(vector_A, 2) \n",
    "L_2"
   ]
  },
  {
   "cell_type": "code",
   "execution_count": 20,
   "metadata": {},
   "outputs": [
    {
     "data": {
      "text/plain": [
       "0.7294592597385884"
      ]
     },
     "execution_count": 20,
     "metadata": {},
     "output_type": "execute_result"
    }
   ],
   "source": [
    "# P-Norm\n",
    "p = 5\n",
    "L_p = np.linalg.norm(vector_A, p) \n",
    "L_p"
   ]
  },
  {
   "cell_type": "code",
   "execution_count": 25,
   "metadata": {},
   "outputs": [
    {
     "data": {
      "text/plain": [
       "1.878249197140613"
      ]
     },
     "execution_count": 25,
     "metadata": {},
     "output_type": "execute_result"
    }
   ],
   "source": [
    "Fro_norm = np.linalg.norm(matrix_A, ord='fro') # Frobenius Norm (for matrix)\n",
    "Fro_norm"
   ]
  },
  {
   "cell_type": "markdown",
   "metadata": {},
   "source": [
    "### Matrix and Vector Operations in numpy"
   ]
  },
  {
   "cell_type": "code",
   "execution_count": 20,
   "metadata": {},
   "outputs": [
    {
     "data": {
      "text/plain": [
       "-0.6579878958774171"
      ]
     },
     "execution_count": 20,
     "metadata": {},
     "output_type": "execute_result"
    }
   ],
   "source": [
    "Dotproduct = np.dot(vector_A, vector_B)\n",
    "Dotproduct"
   ]
  },
  {
   "cell_type": "code",
   "execution_count": 21,
   "metadata": {},
   "outputs": [
    {
     "data": {
      "text/plain": [
       "array([0.53820436, 0.88126388, 0.85617656])"
      ]
     },
     "execution_count": 21,
     "metadata": {},
     "output_type": "execute_result"
    }
   ],
   "source": [
    "Matvect = np.dot(matrix_A, vector_A) \n",
    "Matvect"
   ]
  },
  {
   "cell_type": "code",
   "execution_count": 22,
   "metadata": {},
   "outputs": [
    {
     "data": {
      "text/plain": [
       "array([[-0.80538256, -0.05871325,  0.58767243],\n",
       "       [-0.7585049 , -0.59673889,  0.85334412],\n",
       "       [-0.52344491, -0.88325442,  1.04189144]])"
      ]
     },
     "execution_count": 22,
     "metadata": {},
     "output_type": "execute_result"
    }
   ],
   "source": [
    "Matmult = np.dot(matrix_A, matrix_B) \n",
    "Matmult"
   ]
  },
  {
   "cell_type": "code",
   "execution_count": 23,
   "metadata": {},
   "outputs": [
    {
     "data": {
      "text/plain": [
       "array([[-0.80538256, -0.05871325,  0.58767243],\n",
       "       [-0.7585049 , -0.59673889,  0.85334412],\n",
       "       [-0.52344491, -0.88325442,  1.04189144]])"
      ]
     },
     "execution_count": 23,
     "metadata": {},
     "output_type": "execute_result"
    }
   ],
   "source": [
    "Matmult2 = np.matmul(matrix_A, matrix_B)\n",
    "Matmult2"
   ]
  },
  {
   "cell_type": "markdown",
   "metadata": {},
   "source": [
    "## Comparing our code execution time against numpy"
   ]
  },
  {
   "cell_type": "markdown",
   "metadata": {},
   "source": [
    "#### Matrix Generation"
   ]
  },
  {
   "cell_type": "code",
   "execution_count": 24,
   "metadata": {},
   "outputs": [
    {
     "name": "stdout",
     "output_type": "stream",
     "text": [
      "456 ms ± 0 ns per loop (mean ± std. dev. of 1 run, 1 loop each)\n"
     ]
    }
   ],
   "source": [
    "%%timeit -n 1 -r 1\n",
    "\n",
    "# Our matrix generator\n",
    "Matrix_D = [[random.random() for i in range(1000)] for j in range(1000)]"
   ]
  },
  {
   "cell_type": "code",
   "execution_count": 25,
   "metadata": {},
   "outputs": [
    {
     "name": "stdout",
     "output_type": "stream",
     "text": [
      "45.8 ms ± 0 ns per loop (mean ± std. dev. of 1 run, 1 loop each)\n"
     ]
    }
   ],
   "source": [
    "%%timeit -n 1 -r 1\n",
    "\n",
    "# Numpy matrix generator\n",
    "matrix_D = np.random.rand(1000, 1000)"
   ]
  },
  {
   "cell_type": "markdown",
   "metadata": {},
   "source": [
    "#### Matrix Product"
   ]
  },
  {
   "cell_type": "code",
   "execution_count": 26,
   "metadata": {},
   "outputs": [],
   "source": [
    "matrix_D = np.random.rand(100, 100)\n",
    "matrix_E = np.random.rand(100, 100)"
   ]
  },
  {
   "cell_type": "code",
   "execution_count": 27,
   "metadata": {},
   "outputs": [
    {
     "name": "stdout",
     "output_type": "stream",
     "text": [
      "1.93 s ± 0 ns per loop (mean ± std. dev. of 1 run, 1 loop each)\n"
     ]
    }
   ],
   "source": [
    "%%timeit -n 1 -r 1\n",
    "\n",
    "# Our matrix multiplication\n",
    "matrixmult(matrix_D, matrix_E)"
   ]
  },
  {
   "cell_type": "code",
   "execution_count": 28,
   "metadata": {},
   "outputs": [
    {
     "name": "stdout",
     "output_type": "stream",
     "text": [
      "24.7 ms ± 0 ns per loop (mean ± std. dev. of 1 run, 1 loop each)\n"
     ]
    }
   ],
   "source": [
    "%%timeit -n 1 -r 1\n",
    "\n",
    "# numpy matrix multiplication\n",
    "np.matmul(matrix_D, matrix_E)"
   ]
  },
  {
   "cell_type": "code",
   "execution_count": null,
   "metadata": {},
   "outputs": [],
   "source": []
  }
 ],
 "metadata": {
  "kernelspec": {
   "display_name": "Python 3",
   "language": "python",
   "name": "python3"
  },
  "language_info": {
   "codemirror_mode": {
    "name": "ipython",
    "version": 3
   },
   "file_extension": ".py",
   "mimetype": "text/x-python",
   "name": "python",
   "nbconvert_exporter": "python",
   "pygments_lexer": "ipython3",
   "version": "3.7.0"
  }
 },
 "nbformat": 4,
 "nbformat_minor": 2
}